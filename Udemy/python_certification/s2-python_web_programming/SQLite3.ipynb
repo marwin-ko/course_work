{
 "cells": [
  {
   "cell_type": "markdown",
   "metadata": {},
   "source": [
    "# SQLite3"
   ]
  },
  {
   "cell_type": "markdown",
   "metadata": {},
   "source": [
    "## 1. SQL Introduction"
   ]
  },
  {
   "cell_type": "markdown",
   "metadata": {},
   "source": [
    "**SQL Vocabulary**\n",
    "- database_: collection of tables\n",
    "- table: holds data in rows/colums (similar to csv file)\n",
    "    \n",
    "**Files VS Tables**\n",
    "- files are optimized to used or read all at once for a **user**\n",
    "- tables (in a database) are optimized to accessed in chunks for a **machine/computer**\n",
    "\n",
    "**Table Schema**\n",
    "- rows are entries in the database\n",
    "- columns must be defined in advance!\n",
    "- select/specify column data type\n",
    "- hard to add columns later on....\n",
    "\n",
    "**other notes**\n",
    "- sqlite is typically used locally\n",
    "- sqlite is usually used to prototype/testing\n",
    "- sqlite works best with smaller data"
   ]
  },
  {
   "cell_type": "markdown",
   "metadata": {},
   "source": [
    "## 2. Creating Database & Table"
   ]
  },
  {
   "cell_type": "markdown",
   "metadata": {},
   "source": [
    "### Create Empty Database (tutorial.db)"
   ]
  },
  {
   "cell_type": "code",
   "execution_count": 4,
   "metadata": {
    "collapsed": true
   },
   "outputs": [],
   "source": [
    "import sqlite3\n",
    "conn = sqlite3.connect('tutorial.db')\n",
    "c = conn.cursor()\n",
    "# conn.close()"
   ]
  },
  {
   "cell_type": "markdown",
   "metadata": {},
   "source": [
    "### Create Empty Table"
   ]
  },
  {
   "cell_type": "code",
   "execution_count": 5,
   "metadata": {
    "collapsed": true
   },
   "outputs": [],
   "source": [
    "def create_table():\n",
    "    c.execute(\"CREATE TABLE example(Language VARCHAR, Version REAL, Skill TEXT)\") #create table called 'example'\n",
    "create_table()"
   ]
  },
  {
   "cell_type": "markdown",
   "metadata": {},
   "source": [
    "### Close Connection"
   ]
  },
  {
   "cell_type": "code",
   "execution_count": 7,
   "metadata": {
    "collapsed": true
   },
   "outputs": [],
   "source": [
    "conn.close()"
   ]
  },
  {
   "cell_type": "markdown",
   "metadata": {},
   "source": [
    "## 3. Inserting (Static) Data"
   ]
  },
  {
   "cell_type": "code",
   "execution_count": 20,
   "metadata": {
    "collapsed": true
   },
   "outputs": [],
   "source": [
    "import sqlite3\n",
    "conn = sqlite3.connect(\"tutorial.db\")\n",
    "c = conn.cursor()\n",
    "\n",
    "def create_table():\n",
    "    c.execute(\"CREATE TABLE example(Language VARCHAR, Version REAL, Skill TEXT)\")\n",
    "\n",
    "def enter_data():\n",
    "    c.execute(\"INSERT INTO example VALUES('Python',2.7,'Beginner')\")\n",
    "    c.execute(\"INSERT INTO example VALUES('Python',3.3,'Intermediate')\")\n",
    "    c.execute(\"INSERT INTO example VALUES('Python',3.4,'Expert')\")\n",
    "    conn.commit() # this command commits changes without closing the database\n",
    "enter_data()\n",
    "\n",
    "# before conn.close(), SQLite creates a file called \"tutorial.db-journal\"\n",
    "conn.close()\n",
    "\n",
    "# can use \"conn.commit()\" to commit changes to database, w/o closing database \n",
    "# (and avoids creating a temporary file (tutorial.db-journal) in queue)"
   ]
  },
  {
   "cell_type": "markdown",
   "metadata": {},
   "source": [
    "## 4. Inserting Dynamic Data"
   ]
  },
  {
   "cell_type": "code",
   "execution_count": 14,
   "metadata": {
    "collapsed": false
   },
   "outputs": [
    {
     "name": "stdout",
     "output_type": "stream",
     "text": [
      "What language? Python\n",
      "What version? 3.4\n",
      "What skill level? Intermediate\n"
     ]
    }
   ],
   "source": [
    "import sqlite3\n",
    "conn = sqlite3.connect(\"tutorial.db\")\n",
    "c = conn.cursor()\n",
    "\n",
    "def create_table():\n",
    "    c.execute(\"CREATE TABLE example(Language VARCHAR, Version REAL, Skill TEXT)\")\n",
    "\n",
    "def enter_data():\n",
    "    c.execute(\"INSERT INTO example VALUES('Python',2.7,'Beginner')\")\n",
    "    c.execute(\"INSERT INTO example VALUES('Python',3.3,'Intermediate')\")\n",
    "    c.execute(\"INSERT INTO example VALUES('Python',3.4,'Expert')\")\n",
    "    conn.commit() # this command commits changes without closing the database\n",
    "\n",
    "def enter_dynamic_data():\n",
    "    lang = input(\"What language? \")\n",
    "    version = float(input(\"What version? \"))\n",
    "    skill = input(\"What skill level? \")\n",
    "    c.execute(\"INSERT INTO example (Language, Version, Skill) VALUES(?, ?, ?)\", (lang,version,skill))\n",
    "    conn.commit() \n",
    "enter_dynamic_data()\n",
    "\n",
    "conn.close()"
   ]
  },
  {
   "cell_type": "markdown",
   "metadata": {},
   "source": [
    "## 5. Reading Data"
   ]
  },
  {
   "cell_type": "code",
   "execution_count": 17,
   "metadata": {
    "collapsed": false
   },
   "outputs": [
    {
     "name": "stdout",
     "output_type": "stream",
     "text": [
      "('Python', 3.4, 'Intermediate')\n",
      "Python\n"
     ]
    }
   ],
   "source": [
    "conn = sqlite3.connect(\"tutorial.db\")\n",
    "c = conn.cursor()\n",
    "\n",
    "def read_from_database():\n",
    "    sql = \"SELECT * FROM example\"\n",
    "    for row in c.execute(sql):\n",
    "        print(row)\n",
    "        print(row[0])\n",
    "\n",
    "read_from_database()\n",
    "conn.close()"
   ]
  },
  {
   "cell_type": "code",
   "execution_count": 18,
   "metadata": {
    "collapsed": false
   },
   "outputs": [
    {
     "name": "stdout",
     "output_type": "stream",
     "text": [
      "What skill level are we looking for? Intermediate\n",
      "('Python', 3.4, 'Intermediate')\n"
     ]
    }
   ],
   "source": [
    "conn = sqlite3.connect(\"tutorial.db\")\n",
    "c = conn.cursor()\n",
    "\n",
    "def read_from_database():\n",
    "    what_skill = input(\"What skill level are we looking for? \")\n",
    "    sql = \"SELECT * FROM example WHERE Skill = ?\"\n",
    "    for row in c.execute(sql,[(what_skill)]):\n",
    "        print(row)\n",
    "read_from_database()\n",
    "conn.close()"
   ]
  },
  {
   "cell_type": "code",
   "execution_count": 19,
   "metadata": {
    "collapsed": false
   },
   "outputs": [
    {
     "name": "stdout",
     "output_type": "stream",
     "text": [
      "What skill level are we looking for? Intermediate\n",
      "What language?: Python\n",
      "('Python', 3.4, 'Intermediate')\n"
     ]
    }
   ],
   "source": [
    "conn = sqlite3.connect(\"tutorial.db\")\n",
    "c = conn.cursor()\n",
    "\n",
    "def read_from_database():\n",
    "    what_skill = input(\"What skill level are we looking for? \")\n",
    "    what_language = input(\"What language?: \")\n",
    "    sql = \"SELECT * FROM example WHERE Skill = ? AND Language = ?\"\n",
    "    for row in c.execute(sql,[(what_skill),(what_language)]):\n",
    "        print(row)\n",
    "read_from_database()\n",
    "conn.close()"
   ]
  },
  {
   "cell_type": "markdown",
   "metadata": {},
   "source": [
    "## 5. LIMIT, UPDATE, DELETE"
   ]
  },
  {
   "cell_type": "markdown",
   "metadata": {},
   "source": [
    "### LIMIT"
   ]
  },
  {
   "cell_type": "code",
   "execution_count": 29,
   "metadata": {
    "collapsed": false
   },
   "outputs": [
    {
     "name": "stdout",
     "output_type": "stream",
     "text": [
      "('Python', 3.4, 'Intermediate')\n",
      "('Python', 2.7, 'Beginner')\n",
      "('Python', 3.3, 'Intermediate')\n"
     ]
    }
   ],
   "source": [
    "conn = sqlite3.connect(\"tutorial.db\")\n",
    "c = conn.cursor()\n",
    "def read_from_database():\n",
    "    sql = \"SELECT * FROM example LIMIT 3\" # LIMIT\n",
    "    for row in c.execute(sql):\n",
    "        print(row)\n",
    "read_from_database()\n",
    "conn.close()"
   ]
  },
  {
   "cell_type": "markdown",
   "metadata": {},
   "source": [
    "### UPDATE "
   ]
  },
  {
   "cell_type": "code",
   "execution_count": 30,
   "metadata": {
    "collapsed": false
   },
   "outputs": [
    {
     "name": "stdout",
     "output_type": "stream",
     "text": [
      "('Python', 3.4, 'Intermediate')\n",
      "('Python', 2.7, 'Novice')\n",
      "('Python', 3.3, 'Intermediate')\n",
      "('Python', 3.4, 'Expert')\n"
     ]
    }
   ],
   "source": [
    "conn = sqlite3.connect(\"tutorial.db\")\n",
    "c = conn.cursor()\n",
    "def update_database():\n",
    "    sql = \"UPDATE example SET Skill = 'Novice' WHERE skill = 'Beginner'\" # UPDATE (Beginner to Novice)\n",
    "    c.execute(sql)\n",
    "    sql = \"SELECT * FROM example\"\n",
    "    for row in c.execute(sql):\n",
    "        print(row)\n",
    "update_database()\n",
    "conn.close()"
   ]
  },
  {
   "cell_type": "markdown",
   "metadata": {},
   "source": [
    "### DELETE"
   ]
  },
  {
   "cell_type": "code",
   "execution_count": 32,
   "metadata": {
    "collapsed": false
   },
   "outputs": [
    {
     "name": "stdout",
     "output_type": "stream",
     "text": [
      "('Python', 2.7, 'Beginner')\n",
      "('Python', 3.4, 'Expert')\n"
     ]
    }
   ],
   "source": [
    "conn = sqlite3.connect(\"tutorial.db\")\n",
    "c = conn.cursor()\n",
    "\n",
    "def delete_from_database():\n",
    "    sql = \"DELETE FROM example WHERE Skill = 'Intermediate' \" \n",
    "    c.execute(sql)\n",
    "    conn.commit()\n",
    "delete_from_database()\n",
    "\n",
    "def read_from_database():\n",
    "    sql = \"SELECT * FROM example\"\n",
    "    for row in c.execute(sql):\n",
    "        print(row)\n",
    "read_from_database()\n",
    "conn.close()"
   ]
  }
 ],
 "metadata": {
  "kernelspec": {
   "display_name": "Python 3",
   "language": "python",
   "name": "python3"
  },
  "language_info": {
   "codemirror_mode": {
    "name": "ipython",
    "version": 3
   },
   "file_extension": ".py",
   "mimetype": "text/x-python",
   "name": "python",
   "nbconvert_exporter": "python",
   "pygments_lexer": "ipython3",
   "version": "3.5.2"
  }
 },
 "nbformat": 4,
 "nbformat_minor": 1
}
